{
 "cells": [
  {
   "cell_type": "markdown",
   "id": "d37c8d11",
   "metadata": {},
   "source": [
    "# Setup"
   ]
  },
  {
   "cell_type": "code",
   "execution_count": 1,
   "id": "15b87991",
   "metadata": {},
   "outputs": [
    {
     "data": {
      "text/plain": [
       "True"
      ]
     },
     "execution_count": 1,
     "metadata": {},
     "output_type": "execute_result"
    }
   ],
   "source": [
    "import sys\n",
    "# Python 3.7 is required\n",
    "assert sys.version_info >= (3,7)\n",
    "\n",
    "import time\n",
    "\n",
    "import cv2 as cv\n",
    "import numpy as np\n",
    "\n",
    "# Make sure that optimization is enabled\n",
    "if not cv.useOptimized():\n",
    "    cv.setUseOptimized(True)\n",
    "\n",
    "cv.useOptimized()"
   ]
  },
  {
   "cell_type": "markdown",
   "id": "9f56bf12",
   "metadata": {},
   "source": [
    "# Question 1"
   ]
  },
  {
   "cell_type": "code",
   "execution_count": 2,
   "id": "0b123630",
   "metadata": {},
   "outputs": [],
   "source": [
    "def crop_grid(img, num_horizontal_grid, num_vertical_grid, line_color):\n",
    "    # img is the source image\n",
    "    # num_horizontal_grid and num_vertical_grid are the number of patches along x and y axes.\n",
    "    # line_color is the color of the grid line.\n",
    "    # The output of the function should be image with grids\n",
    "    img_copy = img.copy()\n",
    "    \n",
    "    height, width = img.shape[:2]\n",
    "    \n",
    "    M, N = int(height/num_horizontal_grid), int(width/num_vertical_grid)\n",
    "    x1, y1 = 0, 0\n",
    "\n",
    "    for y in range(0, height, M):\n",
    "        for x in range(0, width, N):\n",
    "    #         if (height - y) < M or (width - x) < N:\n",
    "    #             break\n",
    "\n",
    "            y1 = y + M    # lower right coordinate that will be used to construct rectangle\n",
    "            x1 = x + N\n",
    "\n",
    "            # Check whether patch lower right coordinate exceeds image height and width\n",
    "            if x1 >= width and y1 >= height:\n",
    "                x1 = width - 1\n",
    "                y1 = height - 1\n",
    "                tile = img[y:height, x:width]\n",
    "                cv.rectangle(img_copy, (x, y), (x1, y1), line_color, 1)\n",
    "            # When patch lower right y-coordinate exceeds patch height\n",
    "            elif y1 >= height:\n",
    "                y1 = height - 1\n",
    "                cv.rectangle(img_copy, (x, y), (x1, y1), line_color, 1)\n",
    "\n",
    "            # When patch lower right x-coordinate exceeds patch width\n",
    "            elif x1 >= width:\n",
    "                x1 = width - 1\n",
    "                cv.rectangle(img_copy, (x, y), (x1, y1), line_color, 1)\n",
    "\n",
    "            else:\n",
    "                cv.rectangle(img_copy, (x, y), (x1, y1), line_color, 1)\n",
    "    \n",
    "    cv.imshow('patched image', img_copy)\n",
    "    cv.waitKey(0)\n",
    "    cv.destroyAllWindows()"
   ]
  },
  {
   "cell_type": "code",
   "execution_count": 3,
   "id": "acdb15f9",
   "metadata": {},
   "outputs": [],
   "source": [
    "img = cv.imread('dog.jfif')\n",
    "crop_grid(img, 2, 4, (0,255,0))"
   ]
  },
  {
   "cell_type": "markdown",
   "id": "4cc9d30d",
   "metadata": {},
   "source": [
    "# Question 2"
   ]
  },
  {
   "cell_type": "code",
   "execution_count": 4,
   "id": "9575026e",
   "metadata": {},
   "outputs": [],
   "source": [
    "img1 = cv.imread('lena.jfif')\n",
    "img2 = cv.imread('coins.jfif')\n",
    "\n",
    "# Resize img2\n",
    "new_shape = img1.shape[:2]\n",
    "img2 = cv.resize(img2, new_shape)\n",
    "\n",
    "for i in range (0, 13):\n",
    "    fadein = i / 10.0\n",
    "    dst = cv.addWeighted(img1, fadein, img2, 1 - fadein, 0)\n",
    "    cv.imshow('blend_image', dst)\n",
    "    time.sleep(0.05)\n",
    "    cv.waitKey(200)\n",
    "    cv.destroyAllWindows()"
   ]
  },
  {
   "cell_type": "markdown",
   "id": "dfcaf12f",
   "metadata": {},
   "source": [
    "# Question 3"
   ]
  },
  {
   "cell_type": "markdown",
   "id": "80e1d760",
   "metadata": {},
   "source": [
    "## Method 1"
   ]
  },
  {
   "cell_type": "code",
   "execution_count": 10,
   "id": "0c63f173",
   "metadata": {},
   "outputs": [],
   "source": [
    "import imutils\n",
    "\n",
    "img = cv.imread('lena.jfif')\n",
    "\n",
    "rotate_image = imutils.rotate_bound(img, 45)\n",
    "cv.imshow(\"rotate image\",rotate_image)\n",
    "cv.waitKey(0)\n",
    "cv.destroyAllWindows()"
   ]
  },
  {
   "cell_type": "markdown",
   "id": "8ccd3393",
   "metadata": {},
   "source": [
    "## Method 2"
   ]
  },
  {
   "cell_type": "code",
   "execution_count": 9,
   "id": "c6655fb6",
   "metadata": {},
   "outputs": [],
   "source": [
    "img = cv.imread('lena.jfif')\n",
    "\n",
    "height, width = img.shape[:2] # image shape has 3 dimensions\n",
    "image_center = (width/2, height/2) # getRotationMatrix2D needs coordinates in reverse order (width, height) compared to shape\n",
    "\n",
    "rotation_img = cv.getRotationMatrix2D(image_center, 45, 1)\n",
    "\n",
    "# rotation calculates the cos and sin, taking absolutes of those.\n",
    "abs_cos = abs(rotation_img[0,0]) \n",
    "abs_sin = abs(rotation_img[0,1])\n",
    "\n",
    "# find the new width and height\n",
    "new_w = int(height * abs_sin + width * abs_cos)\n",
    "new_h = int(height * abs_cos + width * abs_sin)\n",
    "\n",
    "# subtract old image center and adding the new image center coordinates\n",
    "rotation_img[0, 2] += new_w/2 - image_center[0]\n",
    "rotation_img[1, 2] += new_h/2 - image_center[1]\n",
    "\n",
    "# rotate image with the new bounds and translated rotation matrix\n",
    "rotation_img = cv.warpAffine(img, rotation_img, (new_w, new_h))\n",
    "\n",
    "cv.imshow(\"rotate image\",rotation_img)\n",
    "cv.waitKey(0)\n",
    "cv.destroyAllWindows()"
   ]
  },
  {
   "cell_type": "markdown",
   "id": "3c3c5a3f",
   "metadata": {},
   "source": [
    "# Question 4"
   ]
  },
  {
   "cell_type": "code",
   "execution_count": 25,
   "id": "7c7d59d4",
   "metadata": {},
   "outputs": [],
   "source": [
    "img1 = cv.imread('flower.jfif')\n",
    "img2 = cv.imread('native-bee.png')\n",
    "\n",
    "# get the mask with gray colour of flower\n",
    "gray_img1 = cv.cvtColor(img1,cv.COLOR_BGR2GRAY)\n",
    "resized_img = np.zeros((img2.shape[0],img2.shape[1]), dtype = np.uint8)\n",
    "resized_img[35:120, 85:178] = gray_img1[35:120, 85:178]\n",
    "\n",
    "# invert the mask to highlight the part we want for flower\n",
    "ret, thresh = cv.threshold(resized_img, 70, 255, cv.THRESH_BINARY)\n",
    "inverted_mask = cv.bitwise_not(thresh)\n",
    "\n",
    "resized_img_rgb = cv.cvtColor(resized_img,cv.COLOR_GRAY2BGR)\n",
    "resized_img_rgb[35:120, 85:178] = img1[35:120, 85:178]\n",
    "\n",
    "ROI = cv.bitwise_and(img2, img2, mask = inverted_mask)\n",
    "\n",
    "flower = cv.bitwise_and(resized_img_rgb, resized_img_rgb, mask = thresh)\n",
    "\n",
    "# merge both image together\n",
    "dst = cv.add(ROI,flower)\n",
    "\n",
    "cv.imshow('bee with flower', dst)\n",
    "cv.waitKey(0)\n",
    "cv.destroyAllWindows()"
   ]
  }
 ],
 "metadata": {
  "kernelspec": {
   "display_name": "Python 3",
   "language": "python",
   "name": "python3"
  },
  "language_info": {
   "codemirror_mode": {
    "name": "ipython",
    "version": 3
   },
   "file_extension": ".py",
   "mimetype": "text/x-python",
   "name": "python",
   "nbconvert_exporter": "python",
   "pygments_lexer": "ipython3",
   "version": "3.8.8"
  }
 },
 "nbformat": 4,
 "nbformat_minor": 5
}
